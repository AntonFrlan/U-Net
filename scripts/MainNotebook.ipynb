{
 "cells": [
  {
   "cell_type": "markdown",
   "id": "04f7ff86",
   "metadata": {},
   "source": [
    "## Include stuff"
   ]
  },
  {
   "cell_type": "code",
   "execution_count": null,
   "id": "c1617041",
   "metadata": {},
   "outputs": [],
   "source": [
    "from nuclei_dataset import nuclei_dataset\n",
    "from torch.utils.data import DataLoader\n",
    "from utils.logging import logging\n",
    "from collections import namedtuple\n",
    "from model_unet_original import UNet\n",
    "from augmentation_model import augmentation_model\n",
    "from nuclei_training import nuclei_training_app\n"
   ]
  },
  {
   "cell_type": "markdown",
   "id": "75ff83a5",
   "metadata": {},
   "source": [
    "### Train nuclei_combined = false"
   ]
  },
  {
   "cell_type": "code",
   "execution_count": null,
   "id": "632daa9e",
   "metadata": {},
   "outputs": [],
   "source": [
    "model_params = namedtuple(\n",
    "    'model_params',\n",
    "    'epochs, batch_size, valid_step, lr, use_gpu',\n",
    ")\n",
    "\n",
    "dataset_params = namedtuple(\n",
    "    'dataset_params',\n",
    "    'train_path, validation_path, mask, size, n_workers',\n",
    ")\n",
    "\n",
    "augmentation_params = namedtuple(\n",
    "    'augmentation_params',\n",
    "    'flip, rotate, noise',\n",
    ")\n",
    "\n",
    "# Training parameters\n",
    "data_info = dataset_params('/home/franko/Desktop/Nuclei/data-science-bowl-2018/train/*',\n",
    "                   '/home/franko/Desktop/Nuclei/data-science-bowl-2018/valid/*',\n",
    "                   False, 64, 8)\n",
    "# Model parameters\n",
    "model_info = model_params(15, 32, 1, 0.0001, True)\n",
    "\n",
    "# Aug parameters\n",
    "aug_info = augmentation_params(True, True, 0.25)\n",
    "\n",
    "# Init\n",
    "training = nuclei_training_app(data_info, model_info, aug_info)\n",
    "\n",
    "# Go :)\n",
    "training.main()"
   ]
  },
  {
   "cell_type": "markdown",
   "id": "60f610fb",
   "metadata": {},
   "source": [
    "### Train nuclei_combined = True"
   ]
  },
  {
   "cell_type": "code",
   "execution_count": null,
   "id": "814d5bed",
   "metadata": {},
   "outputs": [],
   "source": [
    "model_params = namedtuple(\n",
    "    'model_params',\n",
    "    'epochs, batch_size, valid_step, lr, use_gpu',\n",
    ")\n",
    "\n",
    "dataset_params = namedtuple(\n",
    "    'dataset_params',\n",
    "    'train_path, validation_path, mask, size, n_workers',\n",
    ")\n",
    "\n",
    "augmentation_params = namedtuple(\n",
    "    'augmentation_params',\n",
    "    'flip, rotate, noise',\n",
    ")\n",
    "\n",
    "# Training parameters\n",
    "data_info = dataset_params('/home/franko/Desktop/Nuclei/data-science-bowl-2018/train/*',\n",
    "                   '/home/franko/Desktop/Nuclei/data-science-bowl-2018/valid/*',\n",
    "                   True, 128, 2)\n",
    "# Model parameters\n",
    "model_info = model_params(50, 16, 2, 0.0001, True)\n",
    "\n",
    "# Aug parameters\n",
    "aug_info = augmentation_params(True, True, 0.25)\n",
    "\n",
    "# Init\n",
    "training = nuclei_training_app(data_info, model_info, aug_info)\n",
    "\n",
    "# Go :)\n",
    "training.main()"
   ]
  },
  {
   "cell_type": "markdown",
   "id": "048745df",
   "metadata": {},
   "source": [
    "### Evaluate models"
   ]
  },
  {
   "cell_type": "code",
   "execution_count": null,
   "id": "b3b37224",
   "metadata": {},
   "outputs": [],
   "source": [
    "# Training parameters\n",
    "model_params = namedtuple(\n",
    "    'model_params',\n",
    "    'epochs, batch_size, valid_step, lr, use_gpu',\n",
    ")\n",
    "\n",
    "dataset_params = namedtuple(\n",
    "    'dataset_params',\n",
    "    'train_path, validation_path, mask, size, n_workers',\n",
    ")\n",
    "\n",
    "augmentation_params = namedtuple(\n",
    "    'augmentation_params',\n",
    "    'flip, rotate, noise',\n",
    ")\n",
    "\n",
    "data_info = dataset_params('/home/franko/Desktop/Nuclei/data-science-bowl-2018/train/*',\n",
    "                   '/home/franko/Desktop/Nuclei/data-science-bowl-2018/valid/*',\n",
    "                   True, 350, 0)\n",
    "\n",
    "model_info = model_params(50, 16, 2, 0.0001, True)\n",
    "\n",
    "#aug_info = augmentation_params(True, True, 25.0)\n",
    "aug_info = augmentation_params(False, False, False)\n",
    "\n",
    "training = nuclei_training_app(data_info, model_info, aug_info)\n",
    "training.load_model('/home/franko/Desktop/Nuclei/Scripts/best_model-false.pth')\n",
    "#training.eval_model('/home/franko/Desktop/Nuclei/data-science-bowl-2018/train/003cee89357d9fe13516167fd67b609a164651b21934585648c740d2c3d86dc1/images/003cee89357d9fe13516167fd67b609a164651b21934585648c740d2c3d86dc1.png')\n",
    "training.eval_model('/home/franko/Desktop/Nuclei/data-science-bowl-2018/train/3bfa8b3b01fd24a28477f103063d17368a7398b27331e020f3a0ef59bf68c940/images/3bfa8b3b01fd24a28477f103063d17368a7398b27331e020f3a0ef59bf68c940.png')\n"
   ]
  },
  {
   "cell_type": "markdown",
   "id": "4f21848d",
   "metadata": {},
   "source": [
    "### Display dataset"
   ]
  },
  {
   "cell_type": "code",
   "execution_count": null,
   "id": "640bda7d",
   "metadata": {},
   "outputs": [],
   "source": [
    "import matplotlib.pyplot as plt\n",
    "import torch \n",
    "import numpy as np\n",
    "\n",
    "def plot_sample(sample):\n",
    "    imgs, masks, info = sample\n",
    "    imgs = imgs[30]\n",
    "    masks = masks[30]\n",
    "    print(info.studyId[30], info.cx[30], info.cy[30])\n",
    "    arr = imgs.numpy()\n",
    "    plt.figure()\n",
    "    #subplot(r,c) provide the no. of rows and columns\n",
    "    f, axarr = plt.subplots(1,2) \n",
    "\n",
    "    # use the created array to output your multiple images. In this case I have stacked 4 images vertically\n",
    "    axarr[0].imshow(imgs.permute(1,2,0))\n",
    "    axarr[1].imshow(masks.permute(1,2,0), cmap='gray')\n",
    "    plt.show()"
   ]
  },
  {
   "cell_type": "code",
   "execution_count": null,
   "id": "5e1dd370",
   "metadata": {},
   "outputs": [],
   "source": [
    "_train_ds = nuclei_dataset('/home/franko/Desktop/Nuclei/data-science-bowl-2018/train/*',\n",
    "            nuclei_combined = False,\n",
    "            patch_size = 128)\n",
    "_train_dl = DataLoader(\n",
    "            _train_ds,\n",
    "            batch_size=32,\n",
    "            num_workers=4,\n",
    "            pin_memory=False,\n",
    ")\n",
    "augmentation_params = namedtuple(\n",
    "    'augmentation_params',\n",
    "    'flip, rotate, noise',\n",
    ")\n",
    "\n",
    "\n",
    "from augmentation_model import augmentation_model\n",
    "\n",
    "aug_info = augmentation_params(True, True, 0.25)\n",
    "_aug_model = augmentation_model(aug_info)\n",
    "\n",
    "for batch in _train_dl:\n",
    "    img, mask, info = batch\n",
    "    img, mask = _aug_model(img,mask)\n",
    "    plot_sample(batch)\n",
    "    break"
   ]
  }
 ],
 "metadata": {
  "kernelspec": {
   "display_name": "Python 3 (ipykernel)",
   "language": "python",
   "name": "python3"
  },
  "language_info": {
   "codemirror_mode": {
    "name": "ipython",
    "version": 3
   },
   "file_extension": ".py",
   "mimetype": "text/x-python",
   "name": "python",
   "nbconvert_exporter": "python",
   "pygments_lexer": "ipython3",
   "version": "3.7.12"
  }
 },
 "nbformat": 4,
 "nbformat_minor": 5
}
